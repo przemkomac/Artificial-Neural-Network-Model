{
 "cells": [
  {
   "cell_type": "markdown",
   "metadata": {},
   "source": [
    "## Wpierw należy zaimportować bibliotekę `tensorflow` i `numpy`."
   ]
  },
  {
   "cell_type": "markdown",
   "metadata": {},
   "source": [
    "Przygotowuję zbiory danych"
   ]
  },
  {
   "cell_type": "code",
   "execution_count": 1,
   "metadata": {},
   "outputs": [],
   "source": [
    "import numpy as np # for init arry\n",
    "import random\n",
    "from pandas import DataFrame # for dataframes\n",
    "from numpy import log as ln # for ln\n",
    "import math # sin"
   ]
  },
  {
   "cell_type": "code",
   "execution_count": 2,
   "metadata": {},
   "outputs": [],
   "source": [
    "random.shuffle(np.arange(1, 30, 0.1).tolist())"
   ]
  },
  {
   "cell_type": "code",
   "execution_count": 3,
   "metadata": {},
   "outputs": [],
   "source": [
    "x_set = np.array(np.arange(1, 30, 0.1).tolist(), dtype=float)\n",
    "random.shuffle(x_set)\n",
    "y_set = np.array([0.25, 0.5, 0.75, 1], dtype=float)\n",
    "random.shuffle(y_set)"
   ]
  },
  {
   "cell_type": "code",
   "execution_count": 4,
   "metadata": {},
   "outputs": [
    {
     "name": "stdout",
     "output_type": "stream",
     "text": [
      "[ 9.  25.2 23.4 29.3  5.9 19.9  1.2  4.9 20.3 28.6 22.   7.5  7.4 18.6\n",
      " 19.1  7.2 10.9 26.8  6.3 17.5 19.7 10.7 25.9  5.5  5.  16.2 14.4 18.5\n",
      " 14.8  9.8  5.4 26.2 28.4  2.5  5.1 15.7  8.3 20.4 20.   6.5 13.   4.\n",
      " 27.5  6.7 16.4 26.6  1.5  5.3 28.5 21.2  8.   2.3  3.4  7.  24.  21.3\n",
      " 17.1  7.8 12.3 14.3  5.6  2.2  9.6 10.5 14.6 19.3 11.3 13.1 21.9 26.\n",
      " 12.4 22.2 16.8  1.7 16.7 13.9 25.5 26.5 22.5 19.5 20.8 15.   6.1 18.4\n",
      " 18.  28.8 11.5 27.7  2.1 22.4  5.7  8.4 22.3 18.2 17.8 20.7  1.3 14.\n",
      " 23.2 19.  26.9 22.7  1.1 23.8 10.2 29.8 14.7 15.6 21.7  3.8 11.7 24.6\n",
      " 16.5  5.8 12.  10.6 11.6  6.9 28.7  4.6  6.4 19.6 10.1  6.  21.1 24.2\n",
      " 18.1 11.2  3.9 26.7 27.9  1.  29.6 17.4 15.4 17.3 26.1  8.7 13.7 12.8\n",
      " 27.3 28.9 14.9 29.5 24.4  2.7  3.7 15.8 12.7 11.8 10.4 19.8 25.3 16.1\n",
      "  1.6 13.5  8.5 20.1 27.8 16.3 19.2 24.5 28.  27.6 24.3 29.1 13.2 12.2\n",
      "  4.1  4.7 25.  14.1 22.8 24.1 14.5 25.6 22.6 11.4  2.6 18.8  2.8 16.9\n",
      " 29.4 19.4 18.9 17.7  1.9 23.9  3.2  3.1 26.3 13.8 17.2 18.7 23.7 10.\n",
      " 22.9  8.6 25.8  4.5  6.6 22.1  7.9 15.3 12.1 15.2  4.4 27.1 12.9 23.3\n",
      "  9.9 11.  12.6 28.3  6.2 17.9 11.1 27.  29.2 24.9 20.6  8.2  5.2  8.1\n",
      " 18.3 14.2 29.  26.4 16.6  7.7 12.5  9.7  9.3  9.1  7.1 17.6 27.2 10.8\n",
      " 10.3 29.9  1.8 23.6  6.8 21.4  7.3 23.1  4.8 20.2 28.2 24.7 25.4 16.\n",
      "  9.2 21.  27.4 15.9 21.8  7.6 23.  28.1  1.4  4.2  8.9  3.3 15.5  8.8\n",
      "  2.  13.4 11.9 25.1  4.3  2.9 25.7 23.5 24.8  3.   9.4 20.9 21.6 15.1\n",
      "  3.5  2.4 21.5 17.   9.5 13.3 20.5 29.7 13.6  3.6]\n",
      "[0.25 0.5  0.75 1.  ]\n"
     ]
    }
   ],
   "source": [
    "print(x_set)\n",
    "print(y_set)"
   ]
  },
  {
   "cell_type": "code",
   "execution_count": 5,
   "metadata": {},
   "outputs": [],
   "source": [
    "def function_a(x, y):\n",
    "    return y * ln(x)\n",
    "\n",
    "def function_b(x, y):\n",
    "    return 2 * y * math.sin((x-1)/20)"
   ]
  },
  {
   "cell_type": "code",
   "execution_count": 6,
   "metadata": {},
   "outputs": [
    {
     "data": {
      "text/plain": [
       "0.8047189562170501"
      ]
     },
     "execution_count": 6,
     "metadata": {},
     "output_type": "execute_result"
    }
   ],
   "source": [
    "function_a(5, 0.5)"
   ]
  },
  {
   "cell_type": "code",
   "execution_count": 7,
   "metadata": {},
   "outputs": [
    {
     "data": {
      "text/plain": [
       "0.19866933079506122"
      ]
     },
     "execution_count": 7,
     "metadata": {},
     "output_type": "execute_result"
    }
   ],
   "source": [
    "function_b(5, 0.5)"
   ]
  },
  {
   "cell_type": "code",
   "execution_count": 8,
   "metadata": {},
   "outputs": [],
   "source": [
    "list_a = []\n",
    "\n",
    "for x in list(x_set):\n",
    "  for y in list(y_set):\n",
    "    data = {}\n",
    "    data['x'] = x\n",
    "    data['y'] = y\n",
    "    data['result'] = function_a(x,y)\n",
    "    list_a.append(data)\n",
    "    \n",
    "df_a = DataFrame(list_a)\n",
    "    \n",
    "list_b = []\n",
    "\n",
    "for x in list(x_set):\n",
    "  for y in list(y_set):\n",
    "    data = {}\n",
    "    data['x'] = x\n",
    "    data['y'] = y\n",
    "    data['result'] = function_b(x,y)\n",
    "    list_b.append(data)\n",
    "\n",
    "df_b = DataFrame(list_b)"
   ]
  },
  {
   "cell_type": "code",
   "execution_count": 9,
   "metadata": {},
   "outputs": [
    {
     "data": {
      "text/html": [
       "<div>\n",
       "<style scoped>\n",
       "    .dataframe tbody tr th:only-of-type {\n",
       "        vertical-align: middle;\n",
       "    }\n",
       "\n",
       "    .dataframe tbody tr th {\n",
       "        vertical-align: top;\n",
       "    }\n",
       "\n",
       "    .dataframe thead th {\n",
       "        text-align: right;\n",
       "    }\n",
       "</style>\n",
       "<table border=\"1\" class=\"dataframe\">\n",
       "  <thead>\n",
       "    <tr style=\"text-align: right;\">\n",
       "      <th></th>\n",
       "      <th>x</th>\n",
       "      <th>y</th>\n",
       "      <th>result</th>\n",
       "    </tr>\n",
       "  </thead>\n",
       "  <tbody>\n",
       "    <tr>\n",
       "      <th>0</th>\n",
       "      <td>9.0</td>\n",
       "      <td>0.25</td>\n",
       "      <td>0.549306</td>\n",
       "    </tr>\n",
       "    <tr>\n",
       "      <th>1</th>\n",
       "      <td>9.0</td>\n",
       "      <td>0.50</td>\n",
       "      <td>1.098612</td>\n",
       "    </tr>\n",
       "    <tr>\n",
       "      <th>2</th>\n",
       "      <td>9.0</td>\n",
       "      <td>0.75</td>\n",
       "      <td>1.647918</td>\n",
       "    </tr>\n",
       "    <tr>\n",
       "      <th>3</th>\n",
       "      <td>9.0</td>\n",
       "      <td>1.00</td>\n",
       "      <td>2.197225</td>\n",
       "    </tr>\n",
       "    <tr>\n",
       "      <th>4</th>\n",
       "      <td>25.2</td>\n",
       "      <td>0.25</td>\n",
       "      <td>0.806711</td>\n",
       "    </tr>\n",
       "  </tbody>\n",
       "</table>\n",
       "</div>"
      ],
      "text/plain": [
       "      x     y    result\n",
       "0   9.0  0.25  0.549306\n",
       "1   9.0  0.50  1.098612\n",
       "2   9.0  0.75  1.647918\n",
       "3   9.0  1.00  2.197225\n",
       "4  25.2  0.25  0.806711"
      ]
     },
     "execution_count": 9,
     "metadata": {},
     "output_type": "execute_result"
    }
   ],
   "source": [
    "df_a.head(5)"
   ]
  },
  {
   "cell_type": "code",
   "execution_count": 10,
   "metadata": {},
   "outputs": [
    {
     "data": {
      "text/html": [
       "<div>\n",
       "<style scoped>\n",
       "    .dataframe tbody tr th:only-of-type {\n",
       "        vertical-align: middle;\n",
       "    }\n",
       "\n",
       "    .dataframe tbody tr th {\n",
       "        vertical-align: top;\n",
       "    }\n",
       "\n",
       "    .dataframe thead th {\n",
       "        text-align: right;\n",
       "    }\n",
       "</style>\n",
       "<table border=\"1\" class=\"dataframe\">\n",
       "  <thead>\n",
       "    <tr style=\"text-align: right;\">\n",
       "      <th></th>\n",
       "      <th>x</th>\n",
       "      <th>y</th>\n",
       "      <th>result</th>\n",
       "    </tr>\n",
       "  </thead>\n",
       "  <tbody>\n",
       "    <tr>\n",
       "      <th>0</th>\n",
       "      <td>9.0</td>\n",
       "      <td>0.25</td>\n",
       "      <td>0.194709</td>\n",
       "    </tr>\n",
       "    <tr>\n",
       "      <th>1</th>\n",
       "      <td>9.0</td>\n",
       "      <td>0.50</td>\n",
       "      <td>0.389418</td>\n",
       "    </tr>\n",
       "    <tr>\n",
       "      <th>2</th>\n",
       "      <td>9.0</td>\n",
       "      <td>0.75</td>\n",
       "      <td>0.584128</td>\n",
       "    </tr>\n",
       "    <tr>\n",
       "      <th>3</th>\n",
       "      <td>9.0</td>\n",
       "      <td>1.00</td>\n",
       "      <td>0.778837</td>\n",
       "    </tr>\n",
       "    <tr>\n",
       "      <th>4</th>\n",
       "      <td>25.2</td>\n",
       "      <td>0.25</td>\n",
       "      <td>0.467808</td>\n",
       "    </tr>\n",
       "  </tbody>\n",
       "</table>\n",
       "</div>"
      ],
      "text/plain": [
       "      x     y    result\n",
       "0   9.0  0.25  0.194709\n",
       "1   9.0  0.50  0.389418\n",
       "2   9.0  0.75  0.584128\n",
       "3   9.0  1.00  0.778837\n",
       "4  25.2  0.25  0.467808"
      ]
     },
     "execution_count": 10,
     "metadata": {},
     "output_type": "execute_result"
    }
   ],
   "source": [
    "df_b.head(5)"
   ]
  },
  {
   "cell_type": "code",
   "execution_count": 11,
   "metadata": {},
   "outputs": [],
   "source": [
    "from sklearn.model_selection import train_test_split\n",
    "\n",
    "feature_col_names = ['x', 'y']\n",
    "predicted_class_names = ['result']\n",
    "split_test_size = 0.30"
   ]
  },
  {
   "cell_type": "code",
   "execution_count": 12,
   "metadata": {},
   "outputs": [
    {
     "name": "stdout",
     "output_type": "stream",
     "text": [
      "70.00% in training set of a\n",
      "30.00% in test set of a\n"
     ]
    }
   ],
   "source": [
    "x_a = df_a[feature_col_names].values     # predictor feature columns\n",
    "y_a = df_a[predicted_class_names].values # predicted value\n",
    "\n",
    "x_a_train, x_a_test, y_a_train, y_a_test = train_test_split(x_a, y_a, test_size=split_test_size, random_state=42) \n",
    "# test_size = 0.3 is 30%, 42 is the answer to everything\n",
    "\n",
    "print(\"{0:0.2f}% in training set of a\".format((len(x_a_train)/len(df_a.index)) * 100))\n",
    "print(\"{0:0.2f}% in test set of a\".format((len(x_a_test)/len(df_a.index)) * 100))"
   ]
  },
  {
   "cell_type": "code",
   "execution_count": 13,
   "metadata": {},
   "outputs": [
    {
     "data": {
      "text/plain": [
       "(812, 2)"
      ]
     },
     "execution_count": 13,
     "metadata": {},
     "output_type": "execute_result"
    }
   ],
   "source": [
    "x_a_train.shape"
   ]
  },
  {
   "cell_type": "code",
   "execution_count": 14,
   "metadata": {},
   "outputs": [
    {
     "name": "stdout",
     "output_type": "stream",
     "text": [
      "70.00% in training set of b\n",
      "30.00% in test set of b\n"
     ]
    }
   ],
   "source": [
    "x_b = df_b[feature_col_names].values     # predictor feature columns\n",
    "y_b = df_b[predicted_class_names].values # predicted value\n",
    "\n",
    "x_b_train, x_b_test, y_b_train, y_b_test = train_test_split(x_b, y_b, test_size=split_test_size, random_state=42)\n",
    "\n",
    "print(\"{0:0.2f}% in training set of b\".format((len(x_b_train)/len(df_b.index)) * 100))\n",
    "print(\"{0:0.2f}% in test set of b\".format((len(x_b_test)/len(df_b.index)) * 100))"
   ]
  },
  {
   "cell_type": "markdown",
   "metadata": {},
   "source": [
    "## Budowa modelu, wyuczenie algorytmu i test wyników dla funkcji A"
   ]
  },
  {
   "cell_type": "code",
   "execution_count": 15,
   "metadata": {},
   "outputs": [],
   "source": [
    "import pandas as pd\n",
    "from keras.models import Sequential\n",
    "from keras.layers import Dense\n",
    "import numpy as np\n",
    "from sklearn.model_selection import train_test_split\n",
    "\n",
    "model = Sequential()\n",
    "model.add(Dense(1, input_dim=2, activation='sigmoid'))\n",
    "#model.add(Dense(100, activation='sigmoid'))\n",
    "#model.add(Dense(2, activation='softmax'))\n",
    "model.compile(loss='mean_squared_error', optimizer='adam', metrics=['accuracy'])\n",
    "history = model.fit(x_a_train, y_a_train, epochs=40, batch_size=30, validation_data=(x_a_test, y_a_test), verbose=False)"
   ]
  },
  {
   "cell_type": "code",
   "execution_count": 16,
   "metadata": {},
   "outputs": [
    {
     "data": {
      "image/png": "[encoded data removed]",
      "text/plain": [
       "<Figure size 432x288 with 1 Axes>"
      ]
     },
     "metadata": {
      "needs_background": "light"
     },
     "output_type": "display_data"
    }
   ],
   "source": [
    "import matplotlib.pyplot as plt\n",
    "%matplotlib inline\n",
    "\n",
    "plt.figure()\n",
    "plt.xlabel('epoch')\n",
    "plt.ylabel('loss')\n",
    "plt.plot(history.history['loss'])\n",
    "plt.show()"
   ]
  },
  {
   "cell_type": "code",
   "execution_count": 17,
   "metadata": {},
   "outputs": [
    {
     "name": "stdout",
     "output_type": "stream",
     "text": [
      "12/12 [==============================] - 0s 545us/step - loss: 1.0965 - accuracy: 0.0012\n",
      "score_a 1.0965156555175781\n",
      "acc_a 0.001231527072377503\n"
     ]
    }
   ],
   "source": [
    "score_a, acc_a = model.evaluate(x_a_train, y_a_train,\n",
    "                            batch_size=70)\n",
    "print(\"score_a \" + str(score_a))\n",
    "print(\"acc_a \" + str(acc_a))"
   ]
  },
  {
   "cell_type": "code",
   "execution_count": 18,
   "metadata": {},
   "outputs": [
    {
     "name": "stdout",
     "output_type": "stream",
     "text": [
      "5/5 [==============================] - 0s 1000us/step - loss: 1.0245 - accuracy: 0.0086\n",
      "score_a 1.0244895219802856\n",
      "acc_a 0.008620689623057842\n"
     ]
    }
   ],
   "source": [
    "score_a, acc_a = model.evaluate(x_a_test, y_a_test,\n",
    "                            batch_size=70)\n",
    "print(\"score_a \" + str(score_a))\n",
    "print(\"acc_a \" + str(acc_a))"
   ]
  },
  {
   "cell_type": "code",
   "execution_count": 19,
   "metadata": {},
   "outputs": [
    {
     "name": "stdout",
     "output_type": "stream",
     "text": [
      "0.9729550745276566\n",
      "[[0.9877292]]\n"
     ]
    }
   ],
   "source": [
    "print(function_a(7, 0.5))\n",
    "print(model.predict([[7, 0.5]]))"
   ]
  },
  {
   "cell_type": "code",
   "execution_count": null,
   "metadata": {},
   "outputs": [],
   "source": []
  },
  {
   "cell_type": "code",
   "execution_count": null,
   "metadata": {},
   "outputs": [],
   "source": []
  }
 ],
 "metadata": {
  "kernelspec": {
   "display_name": "Python 3",
   "language": "python",
   "name": "python3"
  },
  "language_info": {
   "codemirror_mode": {
    "name": "ipython",
    "version": 3
   },
   "file_extension": ".py",
   "mimetype": "text/x-python",
   "name": "python",
   "nbconvert_exporter": "python",
   "pygments_lexer": "ipython3",
   "version": "3.8.5"
  }
 },
 "nbformat": 4,
 "nbformat_minor": 5
}
