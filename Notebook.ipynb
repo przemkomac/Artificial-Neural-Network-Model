{
 "cells": [
  {
   "cell_type": "markdown",
   "metadata": {},
   "source": [
    "# Określam globalny seed na potrzeby odtworzenia wyników"
   ]
  },
  {
   "cell_type": "code",
   "execution_count": 1,
   "metadata": {},
   "outputs": [],
   "source": [
    "seed = 42"
   ]
  },
  {
   "cell_type": "markdown",
   "metadata": {},
   "source": [
    "# Przygotowuję zbiory danych"
   ]
  },
  {
   "cell_type": "markdown",
   "metadata": {},
   "source": [
    "## Generuję zbiór X i Y"
   ]
  },
  {
   "cell_type": "markdown",
   "metadata": {},
   "source": [
    "Każdy z elementów będzie się różnił od poprzedniego o 0.1. Następnie zbiór wymieszam, aby zapewnić losowość. Aby losowość była stała, podaję seed."
   ]
  },
  {
   "cell_type": "code",
   "execution_count": 2,
   "metadata": {},
   "outputs": [],
   "source": [
    "import random\n",
    "import numpy as np # for init arry\n",
    "\n",
    "x_set = np.array(np.arange(1, 30, 0.1).tolist(), dtype=float)\n",
    "random.Random(seed).shuffle(x_set)"
   ]
  },
  {
   "cell_type": "markdown",
   "metadata": {},
   "source": [
    "Zbiór Y miał być stały, więc tworzę tablicę z wymaganymi wartościami. Ją również wymieszam."
   ]
  },
  {
   "cell_type": "code",
   "execution_count": 3,
   "metadata": {},
   "outputs": [],
   "source": [
    "y_set = np.array([0.25, 0.5, 0.75, 1], dtype=float)\n",
    "random.Random(seed).shuffle(y_set)"
   ]
  },
  {
   "cell_type": "markdown",
   "metadata": {},
   "source": [
    "Podglądam zawartośc wygenerowanych i wymieszanych zbiorów"
   ]
  },
  {
   "cell_type": "code",
   "execution_count": 4,
   "metadata": {},
   "outputs": [
    {
     "name": "stdout",
     "output_type": "stream",
     "text": [
      "[29.1  7.1 20.6 27.2 21.4 24.7  9.5  9.6 27.9 14.8 15.8  4.8 13.9  1.1\n",
      " 13.1 10.5 23.2  6.   1.5 26.9 20.9 20.3 10.1  3.4 26.3  7.5 15.6  4.7\n",
      " 22.  14.3 21.3  9.2 18.8 14.4 27.7 13.4 23.3 29.6  3.2 24.8 28.   1.6\n",
      " 26.2  3.6 24.2  8.8 17.1  5.8 21.9 16.  17.8  4.4 28.3 23.5  5.2 24.\n",
      " 21.   4.2  1.4  9.9  6.5 22.1 12.3 26.  19.8 16.6  1.9 29.5  8.3 20.2\n",
      " 27.1 21.1 25.3 29.7 25.5 28.8 29.9  7.6 16.9 13.   6.1 11.5 13.2 27.\n",
      " 16.7 18.7 13.3 12.5  4.3  3.1  8.   7.   9.4 24.9 21.2 14.9 19.5 21.7\n",
      " 28.1 11.   2.   8.2 11.4  1.7  4.  16.2 11.3 11.6  5.6 19.7 20.1 20.8\n",
      " 25.4 19.9 14.2 14.1 10.9 26.7 23.4 24.3 28.4  2.9 24.5  8.7 15.4 27.6\n",
      " 11.7  8.6  3.7  5.5 13.8 21.5  1.  22.7 16.1 28.6 25.  16.3  9.7 19.2\n",
      " 17.6  3.9  1.2 25.1  7.4 14.5 28.5 20.5 10.8 19.1 11.8  5.   4.9  3.8\n",
      " 29.8  3.3 13.6 14.  23.8 20.  24.4 26.5 18.3 11.9 15.9 18.  25.6 15.3\n",
      "  7.3  4.5 26.1  4.6 25.7 17.4 28.2 13.7 17.7 24.1 19.4 15.5  6.4 29.2\n",
      " 21.8 11.2  9.   1.8 23.7  2.4  9.3 18.5  6.6 27.3 18.6 17.3  7.9 22.9\n",
      " 12.8 22.5  7.2 25.8 14.6  5.3 26.4 16.5  2.8 17.5 27.4 18.9  7.8 18.1\n",
      "  6.3 10.  10.4  5.1 10.3 22.3 17.2 12.6 29.4 10.7  3.5 23.1  6.9 22.8\n",
      " 25.2  8.4 20.7  6.8 17.9 25.9  2.7 19.  26.6 15.7 10.2 23.  23.6 16.8\n",
      " 17.  22.2  8.5 15.1  3.  10.6 24.6  4.1 14.7 12.7 19.6  2.1 21.6  7.7\n",
      " 16.4  9.8 27.5 19.3  5.9 20.4 28.7 29.3 18.2 12.   8.9 27.8 18.4 29.\n",
      "  9.1  1.3 15.2 23.9 12.2 22.4 11.1  2.3 26.8 12.9 12.1  5.7  2.5  2.6\n",
      " 22.6  5.4 28.9  6.2  8.1 12.4 13.5 15.   2.2  6.7]\n",
      "[0.75 0.5  1.   0.25]\n"
     ]
    }
   ],
   "source": [
    "print(x_set)\n",
    "print(y_set)"
   ]
  },
  {
   "cell_type": "markdown",
   "metadata": {},
   "source": [
    "## Definiuję funkcję A i B wymaganą treścią zadania"
   ]
  },
  {
   "cell_type": "markdown",
   "metadata": {},
   "source": [
    "Importuję wpierw wymagane biblioteki do liczenia ln i sin, następnie definiuję funkcje, ktore mają odzwierciedlać funckje dwóch zmiennych wymagane treścią zadania"
   ]
  },
  {
   "cell_type": "code",
   "execution_count": 5,
   "metadata": {},
   "outputs": [],
   "source": [
    "from numpy import log as ln # for ln\n",
    "import math # sin\n",
    "\n",
    "def function_a(x, y):\n",
    "    return y * ln(x)\n",
    "\n",
    "def function_b(x, y):\n",
    "    return 2 * y * math.sin((x-1)/20)"
   ]
  },
  {
   "cell_type": "markdown",
   "metadata": {},
   "source": [
    "Testuję pierwszą funkcję i porównuję z wykresem z treści zadania"
   ]
  },
  {
   "cell_type": "code",
   "execution_count": 6,
   "metadata": {},
   "outputs": [
    {
     "data": {
      "text/plain": [
       "0.8047189562170501"
      ]
     },
     "execution_count": 6,
     "metadata": {},
     "output_type": "execute_result"
    }
   ],
   "source": [
    "function_a(5, 0.5)"
   ]
  },
  {
   "cell_type": "markdown",
   "metadata": {},
   "source": [
    "Testuję drugą funkcję i porównuję z wykresem z treści zadania"
   ]
  },
  {
   "cell_type": "code",
   "execution_count": 7,
   "metadata": {},
   "outputs": [
    {
     "data": {
      "text/plain": [
       "0.19866933079506122"
      ]
     },
     "execution_count": 7,
     "metadata": {},
     "output_type": "execute_result"
    }
   ],
   "source": [
    "function_b(5, 0.5)"
   ]
  },
  {
   "cell_type": "markdown",
   "metadata": {},
   "source": [
    "## Tworzę `DataFrame`'y, na podstawie których będę wyuczał algorytmy"
   ]
  },
  {
   "cell_type": "markdown",
   "metadata": {},
   "source": [
    "Użyję objektu `DataFrame` z biblioteki `pandas`. jest on wspierany przez większość algorytmów, a zintegrowane wygodne operacje na zbiorze ułatwią mi pracę. Tworzę więc dwa `DataFrame`:\n",
    "- `df_a` zawiera wszystkie kombinacje wartości x i y z wygenerowanych zbiorów i wynik funkcji A dla nich\n",
    "- `df_b` zawiera wszystkie kombinacje wartości x i y z wygenerowanych zbiorów i wynik funkcji B dla nich"
   ]
  },
  {
   "cell_type": "code",
   "execution_count": 8,
   "metadata": {},
   "outputs": [],
   "source": [
    "from pandas import DataFrame # for dataframes\n",
    "\n",
    "list_a = []\n",
    "\n",
    "for x in list(x_set):\n",
    "  for y in list(y_set):\n",
    "    data = {}\n",
    "    data['x'] = x\n",
    "    data['y'] = y\n",
    "    data['result'] = function_a(x,y)\n",
    "    list_a.append(data)\n",
    "    \n",
    "df_a = DataFrame(list_a)\n",
    "    \n",
    "list_b = []\n",
    "\n",
    "for x in list(x_set):\n",
    "  for y in list(y_set):\n",
    "    data = {}\n",
    "    data['x'] = x\n",
    "    data['y'] = y\n",
    "    data['result'] = function_b(x,y)\n",
    "    list_b.append(data)\n",
    "\n",
    "df_b = DataFrame(list_b)"
   ]
  },
  {
   "cell_type": "markdown",
   "metadata": {},
   "source": [
    "Podglądam zawartość pierwszego `DataFrame`'a"
   ]
  },
  {
   "cell_type": "code",
   "execution_count": 9,
   "metadata": {},
   "outputs": [
    {
     "data": {
      "text/html": [
       "<div>\n",
       "<style scoped>\n",
       "    .dataframe tbody tr th:only-of-type {\n",
       "        vertical-align: middle;\n",
       "    }\n",
       "\n",
       "    .dataframe tbody tr th {\n",
       "        vertical-align: top;\n",
       "    }\n",
       "\n",
       "    .dataframe thead th {\n",
       "        text-align: right;\n",
       "    }\n",
       "</style>\n",
       "<table border=\"1\" class=\"dataframe\">\n",
       "  <thead>\n",
       "    <tr style=\"text-align: right;\">\n",
       "      <th></th>\n",
       "      <th>x</th>\n",
       "      <th>y</th>\n",
       "      <th>result</th>\n",
       "    </tr>\n",
       "  </thead>\n",
       "  <tbody>\n",
       "    <tr>\n",
       "      <th>0</th>\n",
       "      <td>29.1</td>\n",
       "      <td>0.75</td>\n",
       "      <td>2.528054</td>\n",
       "    </tr>\n",
       "    <tr>\n",
       "      <th>1</th>\n",
       "      <td>29.1</td>\n",
       "      <td>0.50</td>\n",
       "      <td>1.685369</td>\n",
       "    </tr>\n",
       "    <tr>\n",
       "      <th>2</th>\n",
       "      <td>29.1</td>\n",
       "      <td>1.00</td>\n",
       "      <td>3.370738</td>\n",
       "    </tr>\n",
       "    <tr>\n",
       "      <th>3</th>\n",
       "      <td>29.1</td>\n",
       "      <td>0.25</td>\n",
       "      <td>0.842685</td>\n",
       "    </tr>\n",
       "    <tr>\n",
       "      <th>4</th>\n",
       "      <td>7.1</td>\n",
       "      <td>0.75</td>\n",
       "      <td>1.470071</td>\n",
       "    </tr>\n",
       "  </tbody>\n",
       "</table>\n",
       "</div>"
      ],
      "text/plain": [
       "      x     y    result\n",
       "0  29.1  0.75  2.528054\n",
       "1  29.1  0.50  1.685369\n",
       "2  29.1  1.00  3.370738\n",
       "3  29.1  0.25  0.842685\n",
       "4   7.1  0.75  1.470071"
      ]
     },
     "execution_count": 9,
     "metadata": {},
     "output_type": "execute_result"
    }
   ],
   "source": [
    "df_a.head(5)"
   ]
  },
  {
   "cell_type": "markdown",
   "metadata": {},
   "source": [
    "Podglądam zawartość drugiego `DataFrame`'a"
   ]
  },
  {
   "cell_type": "code",
   "execution_count": 10,
   "metadata": {},
   "outputs": [
    {
     "data": {
      "text/html": [
       "<div>\n",
       "<style scoped>\n",
       "    .dataframe tbody tr th:only-of-type {\n",
       "        vertical-align: middle;\n",
       "    }\n",
       "\n",
       "    .dataframe tbody tr th {\n",
       "        vertical-align: top;\n",
       "    }\n",
       "\n",
       "    .dataframe thead th {\n",
       "        text-align: right;\n",
       "    }\n",
       "</style>\n",
       "<table border=\"1\" class=\"dataframe\">\n",
       "  <thead>\n",
       "    <tr style=\"text-align: right;\">\n",
       "      <th></th>\n",
       "      <th>x</th>\n",
       "      <th>y</th>\n",
       "      <th>result</th>\n",
       "    </tr>\n",
       "  </thead>\n",
       "  <tbody>\n",
       "    <tr>\n",
       "      <th>0</th>\n",
       "      <td>29.1</td>\n",
       "      <td>0.75</td>\n",
       "      <td>1.479431</td>\n",
       "    </tr>\n",
       "    <tr>\n",
       "      <th>1</th>\n",
       "      <td>29.1</td>\n",
       "      <td>0.50</td>\n",
       "      <td>0.986287</td>\n",
       "    </tr>\n",
       "    <tr>\n",
       "      <th>2</th>\n",
       "      <td>29.1</td>\n",
       "      <td>1.00</td>\n",
       "      <td>1.972574</td>\n",
       "    </tr>\n",
       "    <tr>\n",
       "      <th>3</th>\n",
       "      <td>29.1</td>\n",
       "      <td>0.25</td>\n",
       "      <td>0.493144</td>\n",
       "    </tr>\n",
       "    <tr>\n",
       "      <th>4</th>\n",
       "      <td>7.1</td>\n",
       "      <td>0.75</td>\n",
       "      <td>0.450440</td>\n",
       "    </tr>\n",
       "  </tbody>\n",
       "</table>\n",
       "</div>"
      ],
      "text/plain": [
       "      x     y    result\n",
       "0  29.1  0.75  1.479431\n",
       "1  29.1  0.50  0.986287\n",
       "2  29.1  1.00  1.972574\n",
       "3  29.1  0.25  0.493144\n",
       "4   7.1  0.75  0.450440"
      ]
     },
     "execution_count": 10,
     "metadata": {},
     "output_type": "execute_result"
    }
   ],
   "source": [
    "df_b.head(5)"
   ]
  },
  {
   "cell_type": "markdown",
   "metadata": {},
   "source": [
    "# Dzielę zbiory na uczący i testujący"
   ]
  },
  {
   "cell_type": "markdown",
   "metadata": {},
   "source": [
    "Importuje bibliotekę dzielącą zbiory `train_test_split` z pakietu `sklearn` oraz określam stałe, aby przejrzyście wywołać algorytmy"
   ]
  },
  {
   "cell_type": "code",
   "execution_count": 11,
   "metadata": {},
   "outputs": [],
   "source": [
    "from sklearn.model_selection import train_test_split\n",
    "\n",
    "feature_col_names = ['x', 'y']\n",
    "predicted_class_names = ['result']\n",
    "split_test_size = 0.30"
   ]
  },
  {
   "cell_type": "markdown",
   "metadata": {},
   "source": [
    "### Funkcja A"
   ]
  },
  {
   "cell_type": "markdown",
   "metadata": {},
   "source": [
    "Dzielę zbiór danych funkcji A oraz sprawdzam proporcje podziału"
   ]
  },
  {
   "cell_type": "code",
   "execution_count": 12,
   "metadata": {},
   "outputs": [
    {
     "name": "stdout",
     "output_type": "stream",
     "text": [
      "70.00% in training set of a\n",
      "30.00% in test set of a\n"
     ]
    }
   ],
   "source": [
    "x_a = df_a[feature_col_names].values     # predictor feature columns\n",
    "y_a = df_a[predicted_class_names].values # predicted value\n",
    "\n",
    "x_a_train, x_a_test, y_a_train, y_a_test = train_test_split(x_a, y_a, test_size=split_test_size, random_state=seed) \n",
    "\n",
    "print(\"{0:0.2f}% in training set of a\".format((len(x_a_train)/len(df_a.index)) * 100))\n",
    "print(\"{0:0.2f}% in test set of a\".format((len(x_a_test)/len(df_a.index)) * 100))"
   ]
  },
  {
   "cell_type": "markdown",
   "metadata": {},
   "source": [
    "Podglądam wielkość przygotowanego zbioru uczącego algorytm funkcji A"
   ]
  },
  {
   "cell_type": "code",
   "execution_count": 13,
   "metadata": {},
   "outputs": [
    {
     "data": {
      "text/plain": [
       "(812, 2)"
      ]
     },
     "execution_count": 13,
     "metadata": {},
     "output_type": "execute_result"
    }
   ],
   "source": [
    "x_a_train.shape"
   ]
  },
  {
   "cell_type": "markdown",
   "metadata": {},
   "source": [
    "### Funkcja B"
   ]
  },
  {
   "cell_type": "markdown",
   "metadata": {},
   "source": [
    "Dzielę zbiór danych funkcji B oraz sprawdzam proporcje podziału"
   ]
  },
  {
   "cell_type": "code",
   "execution_count": 14,
   "metadata": {},
   "outputs": [
    {
     "name": "stdout",
     "output_type": "stream",
     "text": [
      "70.00% in training set of b\n",
      "30.00% in test set of b\n"
     ]
    }
   ],
   "source": [
    "x_b = df_b[feature_col_names].values     # predictor feature columns\n",
    "y_b = df_b[predicted_class_names].values # predicted value\n",
    "\n",
    "x_b_train, x_b_test, y_b_train, y_b_test = train_test_split(x_b, y_b, test_size=split_test_size, random_state=seed)\n",
    "\n",
    "print(\"{0:0.2f}% in training set of b\".format((len(x_b_train)/len(df_b.index)) * 100))\n",
    "print(\"{0:0.2f}% in test set of b\".format((len(x_b_test)/len(df_b.index)) * 100))"
   ]
  },
  {
   "cell_type": "markdown",
   "metadata": {},
   "source": [
    "Podglądam wielkość przygotowanego zbioru uczącego algorytm funkcji B"
   ]
  },
  {
   "cell_type": "code",
   "execution_count": 15,
   "metadata": {},
   "outputs": [
    {
     "data": {
      "text/plain": [
       "(812, 2)"
      ]
     },
     "execution_count": 15,
     "metadata": {},
     "output_type": "execute_result"
    }
   ],
   "source": [
    "x_b_train.shape"
   ]
  },
  {
   "cell_type": "markdown",
   "metadata": {},
   "source": [
    "# Budowa modelu, wyuczenie algorytmu i test wyników dla funkcji A"
   ]
  },
  {
   "cell_type": "markdown",
   "metadata": {},
   "source": [
    "Metodą prób i błędów stroję algorytm aż uzyskam satysfakcjonujący wynik. Poprawność danych weryfikuję w następnych funkcjach."
   ]
  },
  {
   "cell_type": "markdown",
   "metadata": {},
   "source": [
    "Ustawiam stałe do obliczeń (będą potem potrzebne do testowania wyników)"
   ]
  },
  {
   "cell_type": "code",
   "execution_count": 16,
   "metadata": {},
   "outputs": [],
   "source": [
    "epochs=300\n",
    "batch_size=40"
   ]
  },
  {
   "cell_type": "markdown",
   "metadata": {},
   "source": [
    "Do uzyskania satysfakcjonującego wyniku użyłem 3 warstw.\n",
    "1. Warstwa wejściowa składająca się składająca się z dwóch wartości (bo 2 zmienne) oraz z 4 neuronów, co oznacza, że warstwa musi nauczyć się aż 4 zmiennych wewnętrzanych\n",
    "2. Warstwa ukryta składająca się z 4 neuronów\n",
    "3. Warstwa wyjściowa, składająca się z jednego neuronu"
   ]
  },
  {
   "cell_type": "code",
   "execution_count": 17,
   "metadata": {},
   "outputs": [],
   "source": [
    "import pandas as pd\n",
    "from keras.models import Sequential\n",
    "from keras.layers import Dense\n",
    "import numpy as np\n",
    "from sklearn.model_selection import train_test_split\n",
    "import time\n",
    "\n",
    "start = time.time()\n",
    "\n",
    "model = Sequential()\n",
    "model.add(Dense(4, input_dim=2, activation='sigmoid'))\n",
    "model.add(Dense(4))\n",
    "model.add(Dense(1))"
   ]
  },
  {
   "cell_type": "markdown",
   "metadata": {},
   "source": [
    "Optymalizator (funkcja optymalizacyjna) polega na takim dopasowaniu zmiennych wewnętrznych, aby jak najbardziej zmniejszyć wartość funkcji straty. Współczynnik uczenia informuje algorytm, jak agresywnie powinien starać się znaleźć najlepszy model."
   ]
  },
  {
   "cell_type": "markdown",
   "metadata": {},
   "source": [
    "Wykorzystuję optymalizator `Adam`. Wykorzystuję również funkcję straty `mean_squared_error`. Funkcja straty określa, jak daleko przewidziana wartość znajduje się od pożądanej wartości. Wykorzystana przeze mnie funkcja jest średnią błędu kwadratowego wyrażanej jako suma kwadratu różnicy między przewidywanymi i rzeczywistymi zmiennymi docelowymi dla wszystkich punktów danych, podzielona przez liczbę tych punktów, (wzór poniżej)."
   ]
  },
  {
   "attachments": {
    "image.png": {
     "image/png": "[encoded data removed]"
    }
   },
   "cell_type": "markdown",
   "metadata": {},
   "source": [
    "![image.png](attachment:image.png)"
   ]
  },
  {
   "cell_type": "code",
   "execution_count": 18,
   "metadata": {},
   "outputs": [],
   "source": [
    "model.compile(loss='mean_squared_error', optimizer='adam', metrics=['accuracy'])"
   ]
  },
  {
   "cell_type": "markdown",
   "metadata": {},
   "source": [
    "Teraz należy wytrenować model przy użyciu metody fit. Metoda przyjmuje parametr epochs, który określa ilość pełnych przejść przez pełen zbiór - np. dla wartości 300 nasz model zostanie wytrenowany 300 * 812 = 243600 przykładami. Poniżej zobaczymy również, ile zajęło pełne wykonanie algorytmu, od momentu określania warstw uczących."
   ]
  },
  {
   "cell_type": "code",
   "execution_count": 19,
   "metadata": {},
   "outputs": [
    {
     "name": "stdout",
     "output_type": "stream",
     "text": [
      "Time elapsed 15.15065622329712 s\n"
     ]
    }
   ],
   "source": [
    "history = model.fit(x_a_train, y_a_train, epochs=epochs, batch_size=batch_size, validation_data=(x_a_test, y_a_test), verbose=False)\n",
    "\n",
    "end = time.time()\n",
    "print(\"Time elapsed \" + str(end - start) + \" s\")"
   ]
  },
  {
   "cell_type": "markdown",
   "metadata": {},
   "source": [
    "Poniższy wykres wyraźnie prezentuje, że wartość loss zatrzymała się dla pewnej wartości. Wynika z tego, że można nadal zmniejszyć wartość `epochs`, aby przyspieszyć obliczenia. Pozostawiam ją, aby zaprezentować ten fakt."
   ]
  },
  {
   "cell_type": "code",
   "execution_count": 20,
   "metadata": {},
   "outputs": [
    {
     "data": {
      "image/png": "[encoded data removed]",
      "text/plain": [
       "<Figure size 432x288 with 1 Axes>"
      ]
     },
     "metadata": {
      "needs_background": "light"
     },
     "output_type": "display_data"
    }
   ],
   "source": [
    "import matplotlib.pyplot as plt\n",
    "%matplotlib inline\n",
    "\n",
    "plt.figure()\n",
    "plt.xlabel('epoch')\n",
    "plt.ylabel('loss')\n",
    "plt.plot(history.history['loss'])\n",
    "plt.show()"
   ]
  },
  {
   "cell_type": "markdown",
   "metadata": {},
   "source": [
    "Poniżej testy dla podzielonych zbiorów"
   ]
  },
  {
   "cell_type": "code",
   "execution_count": 21,
   "metadata": {},
   "outputs": [
    {
     "name": "stdout",
     "output_type": "stream",
     "text": [
      "21/21 [==============================] - 0s 600us/step - loss: 0.0064 - accuracy: 0.0025\n",
      "score_a 0.006449216045439243\n",
      "acc_a 0.002463054144755006\n"
     ]
    }
   ],
   "source": [
    "score_a, acc_a = model.evaluate(x_a_train, y_a_train, batch_size=batch_size)\n",
    "print(\"score_a \" + str(score_a))\n",
    "print(\"acc_a \" + str(acc_a))"
   ]
  },
  {
   "cell_type": "code",
   "execution_count": 22,
   "metadata": {},
   "outputs": [
    {
     "name": "stdout",
     "output_type": "stream",
     "text": [
      "9/9 [==============================] - 0s 625us/step - loss: 0.0063 - accuracy: 0.0057\n",
      "score_a 0.006348304450511932\n",
      "acc_a 0.005747126415371895\n"
     ]
    }
   ],
   "source": [
    "score_a, acc_a = model.evaluate(x_a_test, y_a_test, batch_size=batch_size)\n",
    "print(\"score_a \" + str(score_a))\n",
    "print(\"acc_a \" + str(acc_a))"
   ]
  },
  {
   "cell_type": "markdown",
   "metadata": {},
   "source": [
    "Poniżej test praktyczny, dla ręcznie wybranej wartości"
   ]
  },
  {
   "cell_type": "code",
   "execution_count": 23,
   "metadata": {},
   "outputs": [
    {
     "name": "stdout",
     "output_type": "stream",
     "text": [
      "Oczekiwany:0.9729550745276566\n",
      "Uzyskany:[[1.0239486]]\n",
      "---\n",
      "Oczekiwany:1.2070784343255752\n",
      "Uzyskany:[[1.3442446]]\n",
      "---\n",
      "Oczekiwany:0.0\n",
      "Uzyskany:[[-0.39013743]]\n",
      "---\n",
      "Oczekiwany:1.354025100551105\n",
      "Uzyskany:[[1.4471533]]\n"
     ]
    }
   ],
   "source": [
    "print(\"Oczekiwany:\" + str(function_a(7, 0.5)))\n",
    "print(\"Uzyskany:\" + str(model.predict([[7, 0.5]])))\n",
    "print(\"---\")\n",
    "\n",
    "print(\"Oczekiwany:\" + str(function_a(5, 0.75)))\n",
    "print(\"Uzyskany:\" + str(model.predict([[5, 0.75]])))\n",
    "print(\"---\")\n",
    "\n",
    "print(\"Oczekiwany:\" + str(function_a(1, 0.25)))\n",
    "print(\"Uzyskany:\" + str(model.predict([[1, 0.25]])))\n",
    "print(\"---\")\n",
    "\n",
    "print(\"Oczekiwany:\" + str(function_a(15, 0.5)))\n",
    "print(\"Uzyskany:\" + str(model.predict([[15, 0.5]])))"
   ]
  },
  {
   "cell_type": "markdown",
   "metadata": {},
   "source": [
    "# Budowa modelu, wyuczenie algorytmu i test wyników dla funkcji B"
   ]
  },
  {
   "cell_type": "markdown",
   "metadata": {},
   "source": [
    "Również tutaj, metodą prób i błędów stroję algorytm aż uzyskam satysfakcjonujący wynik. Poprawność danych weryfikuję w następnych funkcjach."
   ]
  },
  {
   "cell_type": "markdown",
   "metadata": {},
   "source": [
    "Ustawiam stałe do obliczeń (będą potem potrzebne do testowania wyników)"
   ]
  },
  {
   "cell_type": "code",
   "execution_count": 24,
   "metadata": {},
   "outputs": [],
   "source": [
    "epochs=500\n",
    "batch_size=150"
   ]
  },
  {
   "cell_type": "markdown",
   "metadata": {},
   "source": [
    "Do uzyskania satysfakcjonującego wyniku użyłem 4 warstw.\n",
    "\n",
    "1. Warstwa wejściowa składająca się składająca się z dwóch wartości (bo 2 zmienne) oraz z 5 neuronów, co oznacza, że warstwa musi nauczyć się aż 4 zmiennych wewnętrzanych\n",
    "2. Warstwa ukryta składająca się z 7 neuronów\n",
    "3. Warstwa ukryta składająca się z 3 neuronów\n",
    "4. Warstwa wyjściowa, składająca się z jednego neuronu"
   ]
  },
  {
   "cell_type": "code",
   "execution_count": 25,
   "metadata": {},
   "outputs": [],
   "source": [
    "start = time.time()\n",
    "\n",
    "model = Sequential()\n",
    "model.add(Dense(5, input_dim=2, activation='sigmoid'))\n",
    "model.add(Dense(7))\n",
    "model.add(Dense(3))\n",
    "model.add(Dense(1))"
   ]
  },
  {
   "cell_type": "code",
   "execution_count": 26,
   "metadata": {},
   "outputs": [],
   "source": [
    "model.compile(loss='mean_squared_error', optimizer='adam', metrics=['accuracy'])"
   ]
  },
  {
   "cell_type": "code",
   "execution_count": 27,
   "metadata": {},
   "outputs": [
    {
     "name": "stdout",
     "output_type": "stream",
     "text": [
      "Time elapsed 18.259441375732422 s\n"
     ]
    }
   ],
   "source": [
    "history = model.fit(x_b_train, y_b_train, epochs=epochs, batch_size=batch_size, validation_data=(x_b_test, y_b_test), verbose=False)\n",
    "\n",
    "end = time.time()\n",
    "print(\"Time elapsed \" + str(end - start) + \" s\")"
   ]
  },
  {
   "cell_type": "markdown",
   "metadata": {},
   "source": [
    "Poniższy wykres wyraźnie prezentuje, że wartość loss zatrzymała się dla pewnej wartości. Wynika z tego, że można nadal zmniejszyć wartość `epochs`, aby przyspieszyć obliczenia. Pozostawiam ją, aby zaprezentować ten fakt."
   ]
  },
  {
   "cell_type": "code",
   "execution_count": 28,
   "metadata": {},
   "outputs": [
    {
     "data": {
      "image/png": "[encoded data removed]",
      "text/plain": [
       "<Figure size 432x288 with 1 Axes>"
      ]
     },
     "metadata": {
      "needs_background": "light"
     },
     "output_type": "display_data"
    }
   ],
   "source": [
    "import matplotlib.pyplot as plt\n",
    "%matplotlib inline\n",
    "\n",
    "plt.figure()\n",
    "plt.xlabel('epoch')\n",
    "plt.ylabel('loss')\n",
    "plt.plot(history.history['loss'])\n",
    "plt.show()"
   ]
  },
  {
   "cell_type": "markdown",
   "metadata": {},
   "source": [
    "Poniżej testy dla podzielonych zbiorów"
   ]
  },
  {
   "cell_type": "code",
   "execution_count": 29,
   "metadata": {},
   "outputs": [
    {
     "name": "stdout",
     "output_type": "stream",
     "text": [
      "6/6 [==============================] - 0s 800us/step - loss: 2.7713e-04 - accuracy: 0.0025\n",
      "score_b 0.0002771280414890498\n",
      "acc_b 0.002463054144755006\n"
     ]
    }
   ],
   "source": [
    "score_b, acc_b = model.evaluate(x_b_train, y_b_train, batch_size=batch_size)\n",
    "print(\"score_b \" + str(score_b))\n",
    "print(\"acc_b \" + str(acc_b))"
   ]
  },
  {
   "cell_type": "code",
   "execution_count": 30,
   "metadata": {},
   "outputs": [
    {
     "name": "stdout",
     "output_type": "stream",
     "text": [
      "3/3 [==============================] - 0s 1000us/step - loss: 2.5917e-04 - accuracy: 0.0057\n",
      "score_b 0.000259174732491374\n",
      "acc_b 0.005747126415371895\n"
     ]
    }
   ],
   "source": [
    "score_b, acc_b = model.evaluate(x_b_test, y_b_test, batch_size=batch_size)\n",
    "print(\"score_b \" + str(score_b))\n",
    "print(\"acc_b \" + str(acc_b))"
   ]
  },
  {
   "cell_type": "markdown",
   "metadata": {},
   "source": [
    "Poniżej test praktyczny, dla ręcznie wybranej wartości"
   ]
  },
  {
   "cell_type": "code",
   "execution_count": 31,
   "metadata": {},
   "outputs": [
    {
     "name": "stdout",
     "output_type": "stream",
     "text": [
      "Oczekiwany:0.29552020666133955\n",
      "Uzyskany:[[0.28821585]]\n",
      "---\n",
      "Oczekiwany:0.2980039961925918\n",
      "Uzyskany:[[0.27647665]]\n",
      "---\n",
      "Oczekiwany:0.0\n",
      "Uzyskany:[[-0.03513167]]\n",
      "---\n",
      "Oczekiwany:0.644217687237691\n",
      "Uzyskany:[[0.6524561]]\n"
     ]
    }
   ],
   "source": [
    "print(\"Oczekiwany:\" + str(function_b(7, 0.5)))\n",
    "print(\"Uzyskany:\" + str(model.predict([[7, 0.5]])))\n",
    "print(\"---\")\n",
    "\n",
    "print(\"Oczekiwany:\" + str(function_b(5, 0.75)))\n",
    "print(\"Uzyskany:\" + str(model.predict([[5, 0.75]])))\n",
    "print(\"---\")\n",
    "\n",
    "print(\"Oczekiwany:\" + str(function_b(1, 0.25)))\n",
    "print(\"Uzyskany:\" + str(model.predict([[1, 0.25]])))\n",
    "print(\"---\")\n",
    "\n",
    "print(\"Oczekiwany:\" + str(function_b(15, 0.5)))\n",
    "print(\"Uzyskany:\" + str(model.predict([[15, 0.5]])))"
   ]
  },
  {
   "cell_type": "code",
   "execution_count": null,
   "metadata": {},
   "outputs": [],
   "source": []
  }
 ],
 "metadata": {
  "kernelspec": {
   "display_name": "Python 3",
   "language": "python",
   "name": "python3"
  },
  "language_info": {
   "codemirror_mode": {
    "name": "ipython",
    "version": 3
   },
   "file_extension": ".py",
   "mimetype": "text/x-python",
   "name": "python",
   "nbconvert_exporter": "python",
   "pygments_lexer": "ipython3",
   "version": "3.8.5"
  }
 },
 "nbformat": 4,
 "nbformat_minor": 5
}
